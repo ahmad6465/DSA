{
 "cells": [
  {
   "cell_type": "markdown",
   "id": "3f861e81",
   "metadata": {},
   "source": [
    "# Assignment 4\n",
    "\n",
    "# Ahmad Raja\n",
    "# ET22MTECH14002"
   ]
  },
  {
   "cell_type": "markdown",
   "id": "b637ea8a",
   "metadata": {},
   "source": [
    "## Question 1"
   ]
  },
  {
   "cell_type": "code",
   "execution_count": 1,
   "id": "5df78d5e",
   "metadata": {},
   "outputs": [],
   "source": [
    "import numpy as np\n",
    "import matplotlib.pyplot as plt\n",
    "import pandas as pd\n",
    "from scipy import optimize, stats"
   ]
  },
  {
   "cell_type": "code",
   "execution_count": 2,
   "id": "4ca8f5ad",
   "metadata": {},
   "outputs": [],
   "source": [
    "# Creating a dataframe and importing the data in it from the link\n",
    "df = pd.read_csv(\"C:/Users/AHMAD/Desktop/testdata3.csv\")\n",
    "x = df[\"#x\"]\n",
    "y= df['y']\n",
    "sigma_y = df['sigma_y']"
   ]
  },
  {
   "cell_type": "code",
   "execution_count": 3,
   "id": "beb30df7",
   "metadata": {},
   "outputs": [],
   "source": [
    "#initialise theta for all the fits to zero\n",
    "val1 = np.array([0, 0])\n",
    "val2 = np.array([0, 0, 0])\n",
    "val3 = np.array([0, 0, 0, 0])\n"
   ]
  },
  {
   "cell_type": "code",
   "execution_count": 4,
   "id": "c33a7cf2",
   "metadata": {},
   "outputs": [],
   "source": [
    "#Defining the required functions for fitting\n",
    "def linearFunc(x, val1):\n",
    "    return val1[1]*x+val1[0]\n",
    "\n",
    "def quadraticFunc(x, val2):\n",
    "    return val2[2]*x**2 + val2[1]*x + val2[0]\n",
    "\n",
    "def cubicFunc(x, val3):\n",
    "    return val3[3]*x**3 + val3[2]*x**2 + val3[1]*x + val3[0]"
   ]
  },
  {
   "cell_type": "code",
   "execution_count": 5,
   "id": "9798b144",
   "metadata": {},
   "outputs": [],
   "source": [
    "#The log-likelihood function\n",
    "#The log-likelihood function is maximum for best fitting value of theta\n",
    "def logL(theta, n):\n",
    "    if n==1:\n",
    "        y_fit = linearFunc(x, theta)\n",
    "    elif n==2:\n",
    "        y_fit = quadraticFunc(x, theta)\n",
    "    elif n==3:\n",
    "         y_fit = cubicFunc(x, theta)\n",
    "    return sum(stats.norm.logpdf(*args)\n",
    "            for args in zip(y, y_fit, sigma_y))\n",
    "    \n"
   ]
  },
  {
   "cell_type": "code",
   "execution_count": 6,
   "id": "2f298b78",
   "metadata": {},
   "outputs": [],
   "source": [
    "#This function returns the best theta for the fitting\n",
    "def best_theta(n, theta_val):\n",
    "    if n==1:\n",
    "        theta_0 = (n+1)*[0]\n",
    "        neg_logL = lambda theta: -logL(theta, 1)\n",
    "        return optimize.fmin_bfgs(neg_logL, theta_0, disp=False)\n",
    "    if n==2:\n",
    "        theta_0 = (n+1)*[0]\n",
    "        neg_logL = lambda theta: -logL(theta, 2)\n",
    "        return optimize.fmin_bfgs(neg_logL, theta_0, disp=False)\n",
    "    if n==3:\n",
    "        theta_0 = (n+1)*[0]\n",
    "        neg_logL = lambda theta: -logL(theta, 3)\n",
    "        return optimize.fmin_bfgs(neg_logL, theta_0, disp=False)"
   ]
  },
  {
   "cell_type": "code",
   "execution_count": 7,
   "id": "3fbc1fb8",
   "metadata": {},
   "outputs": [],
   "source": [
    "#compute chi2 likelihood for frequentist\n",
    "def compute_chi2(n):\n",
    "    if n==1:\n",
    "        theta = best_theta(n, val1)\n",
    "        resid = ((y - linearFunc(x, theta)) / sigma_y)\n",
    "    elif n==2:\n",
    "        theta = best_theta(n, val2)\n",
    "        resid = ((y - quadraticFunc(x, theta)) / sigma_y)\n",
    "    elif n==3:\n",
    "        theta = best_theta(n, val3)\n",
    "        resid = ((y - cubicFunc(x, theta)) / sigma_y)\n",
    "    return np.sum(resid ** 2)"
   ]
  },
  {
   "cell_type": "code",
   "execution_count": 8,
   "id": "f3f4a429",
   "metadata": {},
   "outputs": [],
   "source": [
    "data = [x, y, sigma_y]\n",
    "def compute_dof(degree, data=data):\n",
    "    return int(''.join(map(str, np.shape(data[1])))) - (degree + 1)\n",
    "def chi2_likelihood(n):\n",
    "    dof = compute_dof(n)\n",
    "    return stats.chi2(dof).pdf(compute_chi2(n))\n"
   ]
  },
  {
   "cell_type": "code",
   "execution_count": 9,
   "id": "7ff7f428",
   "metadata": {},
   "outputs": [],
   "source": [
    "#Compute the p value for the fit using linear model as the null hypothesis\n",
    "def p_val(n):\n",
    "    return 1-stats.chi2(n-1).cdf(compute_chi2(1) - compute_chi2(n))\n",
    "#Compute the optimized values of the parameters\n",
    "r1 = best_theta(1, val1)\n",
    "r2 = best_theta(2, val2)\n",
    "r3 = best_theta(3, val3)"
   ]
  },
  {
   "cell_type": "code",
   "execution_count": 10,
   "id": "01e776b9",
   "metadata": {},
   "outputs": [
    {
     "name": "stdout",
     "output_type": "stream",
     "text": [
      "Log L values\n",
      "linear model: logL = 22.018343433084432\n",
      "quadratic model: logL = 22.924910336744837\n",
      "cubic model: logL = 23.130409290816562\n"
     ]
    }
   ],
   "source": [
    "print(\"Log L values\")\n",
    "print(\"linear model: logL =\", logL(best_theta(1, val1), 1))\n",
    "print(\"quadratic model: logL =\", logL(best_theta(2, val2), 2))\n",
    "print(\"cubic model: logL =\", logL(best_theta(3, val3), 3))\n"
   ]
  },
  {
   "cell_type": "code",
   "execution_count": 11,
   "id": "ddb51137",
   "metadata": {},
   "outputs": [
    {
     "name": "stdout",
     "output_type": "stream",
     "text": [
      "chi2 likelihood\n",
      "- linear model:  0.045383795114405635\n",
      "- quadratic model:  0.036608447025152625\n",
      "- cubic model:  0.04215280527996999\n"
     ]
    }
   ],
   "source": [
    "print(\"chi2 likelihood\")\n",
    "print(\"- linear model: \", chi2_likelihood(1))\n",
    "print(\"- quadratic model: \", chi2_likelihood(2))\n",
    "print(\"- cubic model: \", chi2_likelihood(3))\n"
   ]
  },
  {
   "cell_type": "code",
   "execution_count": 12,
   "id": "d9154cc5",
   "metadata": {},
   "outputs": [
    {
     "name": "stdout",
     "output_type": "stream",
     "text": [
      "p_values\n",
      "- quadratic model:  0.17813275702641806\n",
      "- cubic model:  0.3288788419038664\n"
     ]
    }
   ],
   "source": [
    "print(\"p_values\") #The p value for null hypothesis will not be defined as the delta\n",
    "print(\"- quadratic model: \", p_val(2))\n",
    "print(\"- cubic model: \", p_val(3))"
   ]
  },
  {
   "cell_type": "code",
   "execution_count": 13,
   "id": "8047ad11",
   "metadata": {},
   "outputs": [],
   "source": [
    "\"\"\"Bayesian Analysis\"\"\"\n",
    "#Compute the AICc values as number of data points is considerably small\n",
    "AIC1 = -2*logL(r1, 1) + (2.0*2*20)/(17.0)\n",
    "AIC2 = -2*logL(r2, 2) + (2.0*3*20)/(16.0)\n",
    "AIC3 = -2*logL(r3, 3) + (2.0*4*20)/(15.0)"
   ]
  },
  {
   "cell_type": "code",
   "execution_count": 14,
   "id": "8f019fc2",
   "metadata": {},
   "outputs": [],
   "source": [
    "#Compute the BIC values\n",
    "BIC1 = -2*logL(r1, 1) + 2*np.log(x.shape[0])\n",
    "BIC2 = -2*logL(r2, 2) + 3*np.log(x.shape[0])\n",
    "BIC3 = -2*logL(r3, 3) + 4*np.log(x.shape[0])\n"
   ]
  },
  {
   "cell_type": "code",
   "execution_count": 15,
   "id": "1bad63f8",
   "metadata": {},
   "outputs": [
    {
     "name": "stdout",
     "output_type": "stream",
     "text": [
      "AICc values\n",
      "- linear model:  -39.33080451322769\n",
      "- quadratic model:  -38.349820673489674\n",
      "- cubic model:  -35.59415191496646\n"
     ]
    }
   ],
   "source": [
    "print(\"AICc values\")\n",
    "print(\"- linear model: \", AIC1)\n",
    "print(\"- quadratic model: \", AIC2)\n",
    "print(\"- cubic model: \", AIC3)\n"
   ]
  },
  {
   "cell_type": "code",
   "execution_count": 16,
   "id": "92c1271c",
   "metadata": {},
   "outputs": [
    {
     "name": "stdout",
     "output_type": "stream",
     "text": [
      "Delta AIC values\n",
      "- linear model:  0.0\n",
      "- quadratic model:  0.9809838397380162\n",
      "- cubic model:  3.73665259826123\n"
     ]
    }
   ],
   "source": [
    "#Computing delta AIC\n",
    "AIC_min = min(AIC1, AIC2, AIC3)\n",
    "print(\"Delta AIC values\")\n",
    "print(\"- linear model: \", AIC1-AIC_min)\n",
    "print(\"- quadratic model: \", AIC2-AIC_min)\n",
    "print(\"- cubic model: \", AIC3-AIC_min)"
   ]
  },
  {
   "cell_type": "code",
   "execution_count": 17,
   "id": "d79d0642",
   "metadata": {},
   "outputs": [
    {
     "name": "stdout",
     "output_type": "stream",
     "text": [
      "BIC vlaues\n",
      "- linear model:  -38.04522231906088\n",
      "- quadratic model:  -36.8626238528277\n",
      "- cubic model:  -34.27788948741716\n"
     ]
    }
   ],
   "source": [
    "print(\"BIC vlaues\")\n",
    "print(\"- linear model: \", BIC1)\n",
    "print(\"- quadratic model: \", BIC2)\n",
    "print(\"- cubic model: \", BIC3)"
   ]
  },
  {
   "cell_type": "code",
   "execution_count": 18,
   "id": "d1b868b3",
   "metadata": {},
   "outputs": [
    {
     "name": "stdout",
     "output_type": "stream",
     "text": [
      "Delta BIC values\n",
      "- linear model:  0.0\n",
      "- quadratic model:  1.1825984662331805\n",
      "- cubic model:  3.7673328316437207\n"
     ]
    }
   ],
   "source": [
    "#Computing delta BIC\n",
    "BIC_min = min(BIC1, BIC2, BIC3)\n",
    "print(\"Delta BIC values\")\n",
    "print(\"- linear model: \", BIC1-BIC_min)\n",
    "print(\"- quadratic model: \", BIC2-BIC_min)\n",
    "print(\"- cubic model: \", BIC3-BIC_min)"
   ]
  },
  {
   "cell_type": "code",
   "execution_count": 19,
   "id": "18d83bf0",
   "metadata": {},
   "outputs": [
    {
     "data": {
      "image/png": "[encoded data removed]",
      "text/plain": [
       "<Figure size 640x480 with 1 Axes>"
      ]
     },
     "metadata": {},
     "output_type": "display_data"
    }
   ],
   "source": [
    "t = np.linspace(0, 1, 1000)\n",
    "fig, ax = plt.subplots()\n",
    "ax.errorbar(x, y, sigma_y, fmt='ok', ecolor='gray')\n",
    "ax.plot(t, linearFunc(t, r1), label='best linear model')\n",
    "ax.plot(t, quadraticFunc(t, r2), label='best quadratic model')\n",
    "ax.plot(t, cubicFunc(t, r3), label='best cubic model')\n",
    "ax.legend(loc='best', fontsize=14)\n",
    "ax.set(xlabel='x', ylabel='y', title='data');\n",
    "plt.show()"
   ]
  },
  {
   "cell_type": "markdown",
   "id": "d2330e9d",
   "metadata": {},
   "source": [
    "## Question 2"
   ]
  },
  {
   "cell_type": "code",
   "execution_count": 20,
   "id": "b8390945",
   "metadata": {},
   "outputs": [],
   "source": [
    "data = np.array([[ 0.42, 0.72, 0. , 0.3 , 0.15,\n",
    " 0.09, 0.19, 0.35, 0.4 , 0.54,\n",
    " 0.42, 0.69, 0.2 , 0.88, 0.03,\n",
    " 0.67, 0.42, 0.56, 0.14, 0.2 ],\n",
    " [ 0.33, 0.41, -0.22, 0.01, -0.05,\n",
    " -0.05, -0.12, 0.26, 0.29, 0.39,\n",
    " 0.31, 0.42, -0.01, 0.58, -0.2 ,\n",
    " 0.52, 0.15, 0.32, -0.13, -0.09 ],\n",
    " [ 0.1 , 0.1 , 0.1 , 0.1 , 0.1 ,\n",
    " 0.1 , 0.1 , 0.1 , 0.1 , 0.1 ,\n",
    " 0.1 , 0.1 , 0.1 , 0.1 , 0.1 ,\n",
    " 0.1 , 0.1 , 0.1 , 0.1 , 0.1 ]])\n",
    "x, y, sigma_y = data\n"
   ]
  },
  {
   "cell_type": "code",
   "execution_count": 21,
   "id": "fd1677a6",
   "metadata": {},
   "outputs": [
    {
     "data": {
      "image/png": "[encoded data removed]",
      "text/plain": [
       "<Figure size 640x480 with 1 Axes>"
      ]
     },
     "metadata": {},
     "output_type": "display_data"
    }
   ],
   "source": [
    "%matplotlib inline\n",
    "import matplotlib.pyplot as plt\n",
    "import seaborn as sns; sns.set() # set default plot styles\n",
    "x, y, sigma_y = data\n",
    "fig, ax = plt.subplots()\n",
    "ax.errorbar(x, y, sigma_y, fmt='ok', ecolor='gray')\n",
    "ax.set(xlabel='x', ylabel='y', title='input data');"
   ]
  },
  {
   "cell_type": "code",
   "execution_count": 24,
   "id": "7fd6575e",
   "metadata": {},
   "outputs": [],
   "source": [
    "# creating a function to compute these models\n",
    "\n",
    "def polynomial_fit(theta, x):\n",
    "    \"\"\"Polynomial model of degree (len(theta) - 1)\"\"\"\n",
    "    return sum(t * x ** n for (n, t) in enumerate(theta))"
   ]
  },
  {
   "cell_type": "code",
   "execution_count": 25,
   "id": "2cca2541",
   "metadata": {},
   "outputs": [],
   "source": [
    "def logL(theta, model=polynomial_fit, data=data):\n",
    "    \"\"\"Gaussian log-likelihood of the model at theta\"\"\"\n",
    "    x, y, sigma_y = data\n",
    "    y_fit = model(theta, x)\n",
    "    return sum(stats.norm.logpdf(*args)\n",
    "        for args in zip(y, y_fit, sigma_y))"
   ]
  },
  {
   "cell_type": "code",
   "execution_count": 26,
   "id": "29c6c43a",
   "metadata": {},
   "outputs": [
    {
     "data": {
      "text/plain": [
       "array([-0.20329578,  0.97502245])"
      ]
     },
     "execution_count": 26,
     "metadata": {},
     "output_type": "execute_result"
    }
   ],
   "source": [
    "# Using a direct optimization approach from scipy.optimize\n",
    "\n",
    "def best_theta(degree, model=polynomial_fit, data=data):\n",
    "    theta_0 = (degree + 1) * [0]\n",
    "    neg_logL = lambda theta: -logL(theta, model, data)\n",
    "    return optimize.fmin_bfgs(neg_logL, theta_0, disp=False)\n",
    "theta1 = best_theta(1)\n",
    "theta2 = best_theta(2)\n",
    "theta1\n"
   ]
  },
  {
   "cell_type": "code",
   "execution_count": 27,
   "id": "67e6fa58",
   "metadata": {},
   "outputs": [
    {
     "data": {
      "text/plain": [
       "array([-0.25864531,  1.3934797 , -0.50798821])"
      ]
     },
     "execution_count": 27,
     "metadata": {},
     "output_type": "execute_result"
    }
   ],
   "source": [
    "theta2"
   ]
  },
  {
   "cell_type": "code",
   "execution_count": 28,
   "id": "b1b52569",
   "metadata": {},
   "outputs": [
    {
     "data": {
      "text/plain": [
       "(20,)"
      ]
     },
     "execution_count": 28,
     "metadata": {},
     "output_type": "execute_result"
    },
    {
     "data": {
      "image/png": "[encoded data removed]",
      "text/plain": [
       "<Figure size 640x480 with 1 Axes>"
      ]
     },
     "metadata": {},
     "output_type": "display_data"
    }
   ],
   "source": [
    "# Visually compare the maximum-likelihood degree-1, degree-2 and degree-3 models\n",
    "\n",
    "xfit = np.linspace(0, 1, 20)\n",
    "fig, ax = plt.subplots()\n",
    "ax.errorbar(x, y, sigma_y, fmt='ok', ecolor='gray')\n",
    "ax.plot(xfit, polynomial_fit(theta1, xfit), label='best linear model')\n",
    "ax.plot(xfit, polynomial_fit(theta2, xfit), label='best quadratic model')\n",
    "ax.legend(loc='best', fontsize=14)\n",
    "ax.set(xlabel='x', ylabel='y', title='data');\n",
    "y_predi1=polynomial_fit(theta1, xfit)\n",
    "y_predi2=polynomial_fit(theta2, xfit)\n",
    "y.shape\n"
   ]
  },
  {
   "cell_type": "code",
   "execution_count": 29,
   "id": "19bc0595",
   "metadata": {},
   "outputs": [
    {
     "data": {
      "text/plain": [
       "-34.450965452661286"
      ]
     },
     "execution_count": 29,
     "metadata": {},
     "output_type": "execute_result"
    }
   ],
   "source": [
    "# Calculating AIC of linear model\n",
    "\n",
    "n = len(y)\n",
    "p=1\n",
    "resid = np.subtract(y_predi1, y)\n",
    "rss = np.sum(np.power(resid, 2))\n",
    "aic_score1 = n*np.log(rss/n) + 2*p\n",
    "aic_score1\n"
   ]
  },
  {
   "cell_type": "code",
   "execution_count": 30,
   "id": "56825b80",
   "metadata": {},
   "outputs": [
    {
     "data": {
      "text/plain": [
       "-35.429161243499955"
      ]
     },
     "execution_count": 30,
     "metadata": {},
     "output_type": "execute_result"
    }
   ],
   "source": [
    "# Calculating AIC of quadratic model\n",
    "\n",
    "p=2\n",
    "resid = np.subtract(y_predi2, y)\n",
    "rss = np.sum(np.power(resid, 2))\n",
    "aic_score2 = n*np.log(rss/n) + 2*p\n",
    "aic_score2"
   ]
  },
  {
   "cell_type": "markdown",
   "id": "7361a524",
   "metadata": {},
   "source": [
    "#### The linear model is the best fit since it has lower AIC score magnitude."
   ]
  },
  {
   "cell_type": "code",
   "execution_count": 31,
   "id": "2c35a21c",
   "metadata": {},
   "outputs": [
    {
     "data": {
      "text/plain": [
       "-33.455233179107296"
      ]
     },
     "execution_count": 31,
     "metadata": {},
     "output_type": "execute_result"
    }
   ],
   "source": [
    "# Calculating BIC of linear model\n",
    "\n",
    "p=1\n",
    "residual = np.subtract(y_predi1, y)\n",
    "SSE = np.sum(np.power(residual, 2))\n",
    "BIC = n*np.log(SSE/n) + p*np.log(n)\n",
    "BIC\n"
   ]
  },
  {
   "cell_type": "code",
   "execution_count": 32,
   "id": "cbe83532",
   "metadata": {},
   "outputs": [
    {
     "data": {
      "text/plain": [
       "-33.437696696391974"
      ]
     },
     "execution_count": 32,
     "metadata": {},
     "output_type": "execute_result"
    }
   ],
   "source": [
    "# Calculating BIC of quadratic model\n",
    "\n",
    "p=2\n",
    "residual = np.subtract(y_predi2, y)\n",
    "SSE = np.sum(np.power(residual, 2))\n",
    "BIC = n*np.log(SSE/n) + p*np.log(n)\n",
    "BIC\n"
   ]
  },
  {
   "cell_type": "markdown",
   "id": "049c1a05",
   "metadata": {},
   "source": [
    "####  The linear model is the better fit since it has lower BIC score in magnitude\n"
   ]
  },
  {
   "cell_type": "code",
   "execution_count": 33,
   "id": "4a38bc7c",
   "metadata": {},
   "outputs": [
    {
     "name": "stdout",
     "output_type": "stream",
     "text": [
      "p-value for Model 1 is:  0.9723832456858805\n",
      "p-value for Model 2 is:  0.9723832456858805\n"
     ]
    }
   ],
   "source": [
    "# Calculating p value\n",
    "\n",
    "print('p-value for Model 1 is: ',stats.spearmanr(y,y_predi1)[1])\n",
    "print('p-value for Model 2 is: ',stats.spearmanr(y,y_predi2)[1])"
   ]
  },
  {
   "cell_type": "markdown",
   "id": "82138721",
   "metadata": {},
   "source": [
    "## Question 3"
   ]
  },
  {
   "cell_type": "markdown",
   "id": "8763703b",
   "metadata": {},
   "source": [
    "Wind energy is renewable and in harmony with nature. It is another source of clean energy\n",
    "compared to fossil fuels that pollute the lower atmosphere. The most important parameter of\n",
    "wind power is wind speed. Mathematical methods are useful in measuring wind speed because\n",
    "they are random. For this reason, the potential for wind speed can be measured using a possible\n",
    "distribution. Accurate determination of wind speed distribution opportunities is critical in\n",
    "assessing wind power potential in an area. In this research article, the author attempted to\n",
    "determine the appropriate theoretical probability density function (pdf) (activity density) by\n",
    "comparing 10 pdfs of average wind speed data in the Gelibolu region (northwest Turkey).\n",
    "\n",
    "In determining the appropriate pdf, a method that combines 3 validity tests for eligibility was\n",
    "used where the KS test was one of the three tests. The K-S test has been used correctly in this\n",
    "paper and all the warnings explained on the Penn State website was also adressed in advanced\n",
    "before implementing this test.\n",
    "\n",
    "Link to Article: https://dergipark.org.tr/en/download/article-file/2151940\n"
   ]
  },
  {
   "cell_type": "markdown",
   "id": "021e65bd",
   "metadata": {},
   "source": [
    "## Question 4(a)"
   ]
  },
  {
   "cell_type": "code",
   "execution_count": 34,
   "id": "60be1678",
   "metadata": {},
   "outputs": [
    {
     "name": "stdout",
     "output_type": "stream",
     "text": [
      "Significance value is:  5.911017938341624\n"
     ]
    }
   ],
   "source": [
    "from scipy.stats import norm\n",
    "p = 1.7e-9\n",
    "print('Significance value is: ',norm.isf(p))"
   ]
  },
  {
   "cell_type": "markdown",
   "id": "0179b51d",
   "metadata": {},
   "source": [
    "## Question 4(b)"
   ]
  },
  {
   "cell_type": "code",
   "execution_count": 35,
   "id": "807c9110",
   "metadata": {},
   "outputs": [
    {
     "name": "stdout",
     "output_type": "stream",
     "text": [
      "Significance value is:  5.068957749717791\n"
     ]
    }
   ],
   "source": [
    "p = 2e-7\n",
    "print('Significance value is: ',norm.isf(p))"
   ]
  }
 ],
 "metadata": {
  "kernelspec": {
   "display_name": "Python 3 (ipykernel)",
   "language": "python",
   "name": "python3"
  },
  "language_info": {
   "codemirror_mode": {
    "name": "ipython",
    "version": 3
   },
   "file_extension": ".py",
   "mimetype": "text/x-python",
   "name": "python",
   "nbconvert_exporter": "python",
   "pygments_lexer": "ipython3",
   "version": "3.9.13"
  }
 },
 "nbformat": 4,
 "nbformat_minor": 5
}
